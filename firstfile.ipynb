{
 "cells": [
  {
   "cell_type": "code",
   "execution_count": 2,
   "id": "3c47f599",
   "metadata": {},
   "outputs": [],
   "source": [
    "from azure.identity import AzureCliCredential\n",
    "from azure.storage.filedatalake import DataLakeServiceClient\n",
    "\n",
    "my_cred = AzureCliCredential()\n",
    "\n"
   ]
  },
  {
   "cell_type": "code",
   "execution_count": 3,
   "id": "4c67ea6b",
   "metadata": {},
   "outputs": [],
   "source": [
    "storageAccountName = \"datalakestoragenfsdlmzx6\" # Change this to be the target storage account\n",
    "storageAccountUrl = \"https://{san}.dfs.core.windows.net\".format(san = storageAccountName)\n",
    "containerName = \"datalakegen2filesystem\"\n",
    "\n",
    "service_client = DataLakeServiceClient(account_url=storageAccountUrl, credential=my_cred)\n",
    "\n",
    "file_client = service_client.get_file_client(containerName, \"HCanalytics/test_data_20230214.csv\")\n",
    "\n",
    "downloader = file_client.download_file()\n",
    "\n",
    "with open(\"demoGitHub\", \"wb\") as bf:\n",
    "\n",
    "    downloader.readinto(bf)"
   ]
  },
  {
   "cell_type": "code",
   "execution_count": null,
   "id": "91a16e8e",
   "metadata": {},
   "outputs": [],
   "source": []
  }
 ],
 "metadata": {
  "kernelspec": {
   "display_name": "Python 3 (ipykernel)",
   "language": "python",
   "name": "python3"
  },
  "language_info": {
   "codemirror_mode": {
    "name": "ipython",
    "version": 3
   },
   "file_extension": ".py",
   "mimetype": "text/x-python",
   "name": "python",
   "nbconvert_exporter": "python",
   "pygments_lexer": "ipython3",
   "version": "3.8.13"
  }
 },
 "nbformat": 4,
 "nbformat_minor": 5
}
